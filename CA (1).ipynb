{
  "cells": [
    {
      "cell_type": "markdown",
      "metadata": {
        "id": "tDpRBgr392kE"
      },
      "source": []
    },
    {
      "cell_type": "markdown",
      "metadata": {
        "id": "gAn6JfIw6_2_"
      },
      "source": [
        "# Section A (10 marks)"
      ]
    },
    {
      "cell_type": "markdown",
      "metadata": {
        "id": "-eSRDNZ46_2_"
      },
      "source": [
        "### Dataset Description\n",
        "\n",
        "### ✈️ Air Miles Time Series Dataset\n",
        "\n",
        "A time series dataset representing the **monthly total air miles flown by paying airline passengers** in the **United States**. This dataset spans from **January 1996 to September 2005**, providing insights into **trends and seasonality** in air travel behavior.\n",
        "\n",
        "---\n",
        "\n",
        "\n",
        "\n",
        "---\n",
        "\n",
        "- 📅 **Time Period**: Jan 1996 – Sep 2005  \n",
        "- 📈 **Total Records**: 113 (monthly entries)\n",
        "\n",
        "### Forecast Total Records for next 12 Months?"
      ]
    },
    {
      "cell_type": "markdown",
      "source": [],
      "metadata": {
        "id": "dyKUsRSWzlKx"
      }
    },
    {
      "cell_type": "code",
      "execution_count": null,
      "metadata": {
        "id": "kmpD3S5D6_3A"
      },
      "outputs": [],
      "source": [
        "import pandas                          as      pd\n",
        "import numpy                           as      np\n",
        "import matplotlib.pyplot               as      plt\n",
        "from   IPython.display                 import  display\n",
        "from   pylab                           import  rcParams\n",
        "from   datetime                        import  datetime, timedelta\n",
        "from   pandas.tseries.offsets          import BDay\n",
        "from statsmodels.tsa.stattools         import  adfuller\n",
        "from statsmodels.tsa.stattools         import  pacf\n",
        "from statsmodels.tsa.stattools         import  acf\n",
        "from statsmodels.graphics.tsaplots     import  plot_pacf\n",
        "from statsmodels.graphics.tsaplots     import  plot_acf\n",
        "from statsmodels.graphics.gofplots     import  qqplot\n",
        "from statsmodels.tsa.seasonal          import  seasonal_decompose\n",
        "from   statsmodels.tsa.api             import  ExponentialSmoothing,Holt\n",
        "from statsmodels.tsa.arima.model       import  ARIMA\n",
        "from sklearn.metrics                   import  mean_squared_error\n",
        "import warnings\n",
        "warnings.filterwarnings('ignore')\n",
        "%matplotlib inline\n",
        "import itertools"
      ]
    },
    {
      "cell_type": "markdown",
      "metadata": {
        "id": "LlWGa0Cf6_3A"
      },
      "source": [
        "### 2.A Data preparation"
      ]
    },
    {
      "cell_type": "markdown",
      "metadata": {
        "id": "gRl4EJUi6_3B"
      },
      "source": [
        "#### a.\tRead the dataset (tab, csv, xls, txt, inbuilt dataset). What are the number of rows and no. of cols & types of variables?"
      ]
    },
    {
      "cell_type": "code",
      "execution_count": null,
      "metadata": {
        "id": "kRz2Ardr6_3B"
      },
      "outputs": [],
      "source": []
    },
    {
      "cell_type": "code",
      "execution_count": null,
      "metadata": {
        "id": "bHcWdOBc6_3B"
      },
      "outputs": [],
      "source": []
    },
    {
      "cell_type": "markdown",
      "metadata": {
        "id": "xOHyyVow6_3B"
      },
      "source": [
        "#### b. convert the data into time series"
      ]
    },
    {
      "cell_type": "code",
      "execution_count": null,
      "metadata": {
        "id": "W3SsfcMg6_3B"
      },
      "outputs": [],
      "source": []
    },
    {
      "cell_type": "markdown",
      "metadata": {
        "id": "WNSL_REi6_3B"
      },
      "source": [
        "#### c. Check for defects in the data such as missing values, null, etc."
      ]
    },
    {
      "cell_type": "code",
      "execution_count": null,
      "metadata": {
        "id": "kk35Xo_u6_3B"
      },
      "outputs": [],
      "source": []
    },
    {
      "cell_type": "code",
      "execution_count": null,
      "metadata": {
        "id": "dFR5cGOx6_3B"
      },
      "outputs": [],
      "source": []
    },
    {
      "cell_type": "markdown",
      "metadata": {
        "id": "2by4WqgQ6_3B"
      },
      "source": [
        "#### d. Visualize the time series using relevant plots."
      ]
    },
    {
      "cell_type": "code",
      "execution_count": null,
      "metadata": {
        "id": "wtyPErTp6_3B"
      },
      "outputs": [],
      "source": []
    },
    {
      "cell_type": "markdown",
      "metadata": {
        "id": "0LEAP-1Y6_3B"
      },
      "source": [
        "### 2.B Data Understanding"
      ]
    },
    {
      "cell_type": "markdown",
      "metadata": {
        "id": "IBzD0diz6_3B"
      },
      "source": [
        "#### a. Decompose the time series and check for components of time series."
      ]
    },
    {
      "cell_type": "code",
      "execution_count": null,
      "metadata": {
        "id": "GqO2XtGA6_3B"
      },
      "outputs": [],
      "source": []
    },
    {
      "cell_type": "markdown",
      "metadata": {
        "id": "_03beSvL6_3B"
      },
      "source": [
        "#### b. Perform dicky fuller test to check the stationarity? What other actions will you take if series is non-stationary?"
      ]
    },
    {
      "cell_type": "code",
      "execution_count": null,
      "metadata": {
        "id": "cV1tyMVI6_3B"
      },
      "outputs": [],
      "source": []
    },
    {
      "cell_type": "code",
      "execution_count": null,
      "metadata": {
        "id": "BvihsDMc6_3C"
      },
      "outputs": [],
      "source": []
    },
    {
      "cell_type": "markdown",
      "metadata": {
        "id": "hQzJLIvs6_3C"
      },
      "source": [
        "#### c. Plot AutoCorrelation and Partial AutoCorrelation function for original series? What is your inference from these plots?"
      ]
    },
    {
      "cell_type": "code",
      "execution_count": null,
      "metadata": {
        "id": "j83FGXME6_3C"
      },
      "outputs": [],
      "source": []
    },
    {
      "cell_type": "code",
      "execution_count": null,
      "metadata": {
        "id": "azxrrmVh6_3C"
      },
      "outputs": [],
      "source": []
    },
    {
      "cell_type": "markdown",
      "metadata": {
        "id": "xpj9rZoP6_3C"
      },
      "source": [
        "### 2.C Model Building"
      ]
    },
    {
      "cell_type": "markdown",
      "metadata": {
        "id": "PttyK8Z26_3C"
      },
      "source": [
        "#### a. Split dataset using the last 12 weeks as test data."
      ]
    },
    {
      "cell_type": "code",
      "execution_count": null,
      "metadata": {
        "id": "Iq7c2CaS6_3C"
      },
      "outputs": [],
      "source": []
    },
    {
      "cell_type": "markdown",
      "metadata": {
        "id": "mrGwvlse6_3C"
      },
      "source": [
        "#### b. Fit ARIMA model and observe the RMSE and MAPE values of the model for test data."
      ]
    },
    {
      "cell_type": "code",
      "execution_count": null,
      "metadata": {
        "id": "epTK_GyD6_3C"
      },
      "outputs": [],
      "source": []
    },
    {
      "cell_type": "code",
      "execution_count": null,
      "metadata": {
        "id": "5QubVwQS6_3C"
      },
      "outputs": [],
      "source": []
    },
    {
      "cell_type": "code",
      "execution_count": null,
      "metadata": {
        "id": "pg8j57Od6_3C"
      },
      "outputs": [],
      "source": []
    },
    {
      "cell_type": "code",
      "execution_count": null,
      "metadata": {
        "id": "kstpRP9R6_3C"
      },
      "outputs": [],
      "source": []
    },
    {
      "cell_type": "code",
      "execution_count": null,
      "metadata": {
        "id": "_7wHC3Dk6_3C"
      },
      "outputs": [],
      "source": []
    },
    {
      "cell_type": "code",
      "execution_count": null,
      "metadata": {
        "id": "ZYJsSKB-6_3C"
      },
      "outputs": [],
      "source": []
    },
    {
      "cell_type": "code",
      "execution_count": null,
      "metadata": {
        "id": "asovRb8D6_3C"
      },
      "outputs": [],
      "source": []
    },
    {
      "cell_type": "code",
      "execution_count": null,
      "metadata": {
        "id": "NIKamjxT6_3F"
      },
      "outputs": [],
      "source": []
    },
    {
      "cell_type": "code",
      "execution_count": null,
      "metadata": {
        "id": "Vq30nwqr6_3F"
      },
      "outputs": [],
      "source": []
    },
    {
      "cell_type": "code",
      "execution_count": null,
      "metadata": {
        "id": "NXx92ZHx6_3F"
      },
      "outputs": [],
      "source": []
    },
    {
      "cell_type": "markdown",
      "metadata": {
        "id": "GBoNGWWj6_3F"
      },
      "source": [
        "# Section B Total 10 Marks"
      ]
    },
    {
      "cell_type": "markdown",
      "metadata": {
        "id": "09TY8IQ16_3F"
      },
      "source": [
        "### 3.A Fit exponential smoothing model and observe the residuals, RMSE and MAPE values of the model for test data."
      ]
    },
    {
      "cell_type": "code",
      "execution_count": null,
      "metadata": {
        "id": "rSmXLPGe6_3F"
      },
      "outputs": [],
      "source": []
    },
    {
      "cell_type": "markdown",
      "metadata": {
        "id": "4EyPrTVJ6_3F"
      },
      "source": [
        "\n",
        "### 3.B How would you improve the exponential smoothing model? Make the changes and Fit the final exponential smoothing model."
      ]
    },
    {
      "cell_type": "raw",
      "metadata": {
        "id": "uKk2sgP36_3F"
      },
      "source": []
    },
    {
      "cell_type": "code",
      "execution_count": null,
      "metadata": {
        "id": "6Em7icqe6_3F"
      },
      "outputs": [],
      "source": []
    },
    {
      "cell_type": "code",
      "execution_count": null,
      "metadata": {
        "id": "cdS1yajq6_3F"
      },
      "outputs": [],
      "source": []
    },
    {
      "cell_type": "code",
      "execution_count": null,
      "metadata": {
        "id": "uouTlNon6_3F"
      },
      "outputs": [],
      "source": []
    },
    {
      "cell_type": "code",
      "execution_count": null,
      "metadata": {
        "id": "7UiFZx5I6_3F"
      },
      "outputs": [],
      "source": []
    },
    {
      "cell_type": "code",
      "execution_count": null,
      "metadata": {
        "id": "6JDGuARV6_3F"
      },
      "outputs": [],
      "source": [
        "\n"
      ]
    },
    {
      "cell_type": "code",
      "execution_count": null,
      "metadata": {
        "id": "flxNvbiD6_3F"
      },
      "outputs": [],
      "source": []
    },
    {
      "cell_type": "code",
      "execution_count": null,
      "metadata": {
        "id": "_qboAyYY6_3F"
      },
      "outputs": [],
      "source": []
    },
    {
      "cell_type": "code",
      "execution_count": null,
      "metadata": {
        "id": "93H5BZYW6_3F"
      },
      "outputs": [],
      "source": []
    },
    {
      "cell_type": "code",
      "execution_count": null,
      "metadata": {
        "id": "UVXqpvr76_3G"
      },
      "outputs": [],
      "source": []
    },
    {
      "cell_type": "code",
      "execution_count": null,
      "metadata": {
        "id": "cfpQNsS66_3G"
      },
      "outputs": [],
      "source": []
    },
    {
      "cell_type": "markdown",
      "metadata": {
        "id": "vh0H_HA16_3G"
      },
      "source": [
        "### 3.B Analyze the residuals of this final model. Feel free to use charts or graphs to explain."
      ]
    },
    {
      "cell_type": "code",
      "execution_count": null,
      "metadata": {
        "id": "jErBMpTm6_3G"
      },
      "outputs": [],
      "source": []
    },
    {
      "cell_type": "code",
      "execution_count": null,
      "metadata": {
        "scrolled": true,
        "id": "4UD4x2Mt6_3G"
      },
      "outputs": [],
      "source": []
    },
    {
      "cell_type": "code",
      "execution_count": null,
      "metadata": {
        "id": "xVZTPXLo6_3G"
      },
      "outputs": [],
      "source": []
    },
    {
      "cell_type": "raw",
      "metadata": {
        "id": "cDaXyAO66_3G"
      },
      "source": []
    },
    {
      "cell_type": "markdown",
      "metadata": {
        "id": "2fqVOJr06_3G"
      },
      "source": [
        "### 3.C Forecast total records for next 12 month using the final model??"
      ]
    },
    {
      "cell_type": "code",
      "execution_count": null,
      "metadata": {
        "id": "MR4U3Hza6_3G"
      },
      "outputs": [],
      "source": []
    },
    {
      "cell_type": "code",
      "execution_count": null,
      "metadata": {
        "id": "W5HUGCl-6_3G"
      },
      "outputs": [],
      "source": []
    },
    {
      "cell_type": "code",
      "execution_count": null,
      "metadata": {
        "id": "H1qJ2A5F6_3G"
      },
      "outputs": [],
      "source": []
    },
    {
      "cell_type": "code",
      "execution_count": null,
      "metadata": {
        "id": "uVIYzgyg6_3G"
      },
      "outputs": [],
      "source": []
    },
    {
      "cell_type": "code",
      "execution_count": null,
      "metadata": {
        "id": "DnqCyBVQ6_3G"
      },
      "outputs": [],
      "source": []
    },
    {
      "cell_type": "markdown",
      "metadata": {
        "id": "TqJTkNq76_3G"
      },
      "source": [
        "# END"
      ]
    }
  ],
  "metadata": {
    "colab": {
      "provenance": [],
      "toc_visible": true
    },
    "kernelspec": {
      "display_name": "Python 3 (ipykernel)",
      "language": "python",
      "name": "python3"
    },
    "language_info": {
      "codemirror_mode": {
        "name": "ipython",
        "version": 3
      },
      "file_extension": ".py",
      "mimetype": "text/x-python",
      "name": "python",
      "nbconvert_exporter": "python",
      "pygments_lexer": "ipython3",
      "version": "3.11.5"
    }
  },
  "nbformat": 4,
  "nbformat_minor": 0
}