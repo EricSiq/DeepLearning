{
  "nbformat": 4,
  "nbformat_minor": 0,
  "metadata": {
    "colab": {
      "provenance": [],
      "include_colab_link": true
    },
    "kernelspec": {
      "name": "python3",
      "display_name": "Python 3"
    },
    "language_info": {
      "name": "python"
    }
  },
  "cells": [
    {
      "cell_type": "markdown",
      "metadata": {
        "id": "view-in-github",
        "colab_type": "text"
      },
      "source": [
        "<a href=\"https://colab.research.google.com/github/EricSiq/DeepLearning/blob/main/XOR_Problem_feedforward_withBackpropagation.ipynb\" target=\"_parent\"><img src=\"https://colab.research.google.com/assets/colab-badge.svg\" alt=\"Open In Colab\"/></a>"
      ]
    },
    {
      "cell_type": "markdown",
      "source": [
        "Eric Siqueira\n",
        "\n",
        "PRN: 23070126041\n",
        "\n",
        "\n",
        "AIML A2 (2023-27)"
      ],
      "metadata": {
        "id": "kwZgvGWwbVIZ"
      }
    },
    {
      "cell_type": "code",
      "source": [],
      "metadata": {
        "id": "_WgogsBwbfE1"
      },
      "execution_count": null,
      "outputs": []
    },
    {
      "cell_type": "markdown",
      "source": [
        "# FeedForward Neural Networks"
      ],
      "metadata": {
        "id": "sEZNra_dbdv7"
      }
    },
    {
      "cell_type": "code",
      "execution_count": null,
      "metadata": {
        "id": "kAacsoO4RsgJ"
      },
      "outputs": [],
      "source": [
        "import numpy as np\n",
        "import pandas as pd"
      ]
    },
    {
      "cell_type": "code",
      "source": [
        "class feedforward_NN:\n",
        "  def __init__(self,input_size,hidden_size,output_size):\n",
        "    self.weights1=np.random.randn(input_size,hidden_size)\n",
        "    self.bias1=np.zeros((1,hidden_size))\n",
        "    self.weights2 = np.random.randn(hidden_size, output_size)\n",
        "    self.bias2 = np.zeros((1, output_size))\n",
        "  def forward(self,x):\n",
        "    self.hidden_layer_activation=np.dot(x,self.weights1)+self.bias1\n",
        "    self.hidden_layer_output=self.sigmoid(self.hidden_layer_activation)\n",
        "    self.output_layer_activation=np.dot(self.hidden_layer_output,self.weights2)+self.bias2\n",
        "    self.predictions=self.sigmoid(self.output_layer_activation)\n",
        "    return self.predictions\n",
        "\n",
        "  def sigmoid(self,x):\n",
        "    return 1/(1+np.exp(-x))"
      ],
      "metadata": {
        "id": "gYEdO6jtR9bC"
      },
      "execution_count": null,
      "outputs": []
    },
    {
      "cell_type": "code",
      "source": [
        "X = np.array([[0,0],[0,1],[1,0],[1,1]])\n",
        "Y = np.array([[0],[1],[1],[0]])"
      ],
      "metadata": {
        "id": "bctZxz9uTSxH"
      },
      "execution_count": null,
      "outputs": []
    },
    {
      "cell_type": "code",
      "source": [
        "#initialize the neural network\n",
        "input_size = 2\n",
        "hidden_size = 4\n",
        "output_size = 1\n",
        "\n",
        "model = feedforward_NN(input_size, hidden_size, output_size)\n",
        "\n",
        "#training loop\n",
        "predictions = model.forward(X)\n",
        "print(\"predictions before training:\")\n",
        "print(predictions)\n",
        "\n",
        "#loss function\n",
        "def mse_loss(y_true, y_pred):\n",
        "  return np.mean((y_true - y_pred)**2)\n",
        "\n",
        "loss = mse_loss(Y, predictions)\n",
        "print(\"loss before training:\")\n",
        "print(loss)\n",
        "\n",
        "#perform training(updating weights and biases)\n",
        "learning_rate =0.1\n",
        "epochs = 1\n",
        "for epoch in range(epochs):\n",
        "  predictions = model.forward(X)\n",
        "  loss = mse_loss(Y, predictions)\n",
        "\n",
        "\n",
        "if epoch % 100 == 0:\n",
        "  print(f\"Epoch {epoch}, Loss: {loss}\")"
      ],
      "metadata": {
        "colab": {
          "base_uri": "https://localhost:8080/"
        },
        "id": "nA2RM2cFTjDx",
        "outputId": "f4baf5e6-e5ac-4f91-c05b-36983418084c"
      },
      "execution_count": null,
      "outputs": [
        {
          "output_type": "stream",
          "name": "stdout",
          "text": [
            "predictions before training:\n",
            "[[0.67351441]\n",
            " [0.72509018]\n",
            " [0.51854773]\n",
            " [0.59874317]]\n",
            "loss before training:\n",
            "0.27987168414343244\n",
            "Epoch 0, Loss: 0.27987168414343244\n"
          ]
        }
      ]
    },
    {
      "cell_type": "code",
      "source": [
        "predictions = model.forward(X)\n",
        "print(\"predictions after training:\")\n",
        "print(predictions)"
      ],
      "metadata": {
        "colab": {
          "base_uri": "https://localhost:8080/"
        },
        "id": "gUcylJl-WK2P",
        "outputId": "5c884dcc-b53f-403b-aa57-4bc18ac38d1c"
      },
      "execution_count": null,
      "outputs": [
        {
          "output_type": "stream",
          "name": "stdout",
          "text": [
            "predictions after training:\n",
            "[[0.67351441]\n",
            " [0.72509018]\n",
            " [0.51854773]\n",
            " [0.59874317]]\n"
          ]
        }
      ]
    },
    {
      "cell_type": "code",
      "source": [
        "#compute loss\n",
        "loss=nsee_loss(Y,predictions)\n",
        "#Backpropagation(Gradient Descent)\n",
        "#d_loss=2*(predictions-y)/len(y)\n",
        "#d_output=d_loss*model.sigmoid(model.ouput_layer_activation)*\n",
        "(1-model.sigmoid(model.hidden_layer_activation))\n",
        "#d_hidden=np.dot(d_output,model.weights2.T) * model.sigmoid(model.hidden_layer_activation) *\n",
        "(1-model.sigmoid(model.hidden_layer_activation))\n",
        "\n",
        "#Update weights and biases\n",
        "#model.weights -=learning_rate*np.dot(model.hidden_layer_output.T,d_output)\n",
        "#model.bias2 -= learning_rate*np.sum(d_output,axis=0,keepdims=True)\n",
        "#"
      ],
      "metadata": {
        "id": "5OgEdrJxW6jb"
      },
      "execution_count": null,
      "outputs": []
    }
  ]
}