{
  "nbformat": 4,
  "nbformat_minor": 0,
  "metadata": {
    "colab": {
      "provenance": [],
      "include_colab_link": true
    },
    "kernelspec": {
      "name": "python3",
      "display_name": "Python 3"
    },
    "language_info": {
      "name": "python"
    }
  },
  "cells": [
    {
      "cell_type": "markdown",
      "metadata": {
        "id": "view-in-github",
        "colab_type": "text"
      },
      "source": [
        "<a href=\"https://colab.research.google.com/github/EricSiq/Understanding-DeepLearning/blob/main/Exp7_ChestXray_PneumoniaDetection_using_CNNs_withHyperparameterTuning.ipynb\" target=\"_parent\"><img src=\"https://colab.research.google.com/assets/colab-badge.svg\" alt=\"Open In Colab\"/></a>"
      ]
    },
    {
      "cell_type": "code",
      "source": [
        "# Import core libraries\n",
        "import numpy as np\n",
        "import tensorflow as tf\n",
        "from tensorflow.keras.preprocessing.image import ImageDataGenerator\n",
        "from tensorflow.keras.models import Sequential\n",
        "from tensorflow.keras.layers import Conv2D, MaxPooling2D, Flatten, Dense, Dropout, BatchNormalization\n",
        "import matplotlib.pyplot as plt\n",
        "import os\n",
        "import shutil\n"
      ],
      "metadata": {
        "id": "trdDvtIEYtoO"
      },
      "execution_count": 2,
      "outputs": []
    },
    {
      "cell_type": "code",
      "source": [
        "\n",
        "# Install Keras Tuner for hyperparameter tuning\n",
        "!pip install -q keras-tuner\n",
        "\n",
        "# Import Keras Tuner library\n",
        "import keras_tuner as kt\n"
      ],
      "metadata": {
        "id": "jGFgdqivYurT"
      },
      "execution_count": 3,
      "outputs": []
    },
    {
      "cell_type": "code",
      "source": [
        "\n",
        "# --- Data Download and Preparation ---\n",
        "# This block automates downloading the dataset from Kaggle.\n",
        "# It requires a 'kaggle.json' file with your API credentials.\n",
        "try:\n",
        "    # Attempt to install the Kaggle library\n",
        "    !pip install -q kaggle\n",
        "\n",
        "    # Check if kaggle.json is present\n",
        "    if not os.path.exists('/root/.kaggle/kaggle.json'):\n",
        "        print(\"Kaggle credentials not found. Please upload your kaggle.json file.\")\n",
        "        from google.colab import files\n",
        "        files.upload() # This will prompt you to upload the file\n",
        "        !mkdir -p ~/.kaggle\n",
        "        !mv kaggle.json ~/.kaggle/\n",
        "        !chmod 600 ~/.kaggle/kaggle.json\n",
        "\n",
        "    # Download the dataset if it's not already downloaded\n",
        "    dataset_name = 'paultimothymooney/chest-xray-pneumonia'\n",
        "    zip_file = 'chest-xray-pneumonia.zip'\n",
        "    dataset_dir = 'chest_xray'\n",
        "\n",
        "    if not os.path.exists(dataset_dir):\n",
        "        print(f\"Downloading dataset: {dataset_name}...\")\n",
        "        !kaggle datasets download -d {dataset_name}\n",
        "        print(f\"Unzipping {zip_file}...\")\n",
        "        !unzip -q {zip_file}\n",
        "        print(\"Dataset successfully downloaded and unzipped.\")\n",
        "    else:\n",
        "        print(\"Dataset already exists. Skipping download.\")\n",
        "\n",
        "except Exception as e:\n",
        "    print(f\"An error occurred during data setup: {e}\")\n"
      ],
      "metadata": {
        "colab": {
          "base_uri": "https://localhost:8080/"
        },
        "id": "QdFX_wQjYrLL",
        "outputId": "2eb4a1e8-2a9e-40a3-9689-a0afaec1e1d1"
      },
      "execution_count": 4,
      "outputs": [
        {
          "output_type": "stream",
          "name": "stdout",
          "text": [
            "Dataset already exists. Skipping download.\n"
          ]
        }
      ]
    },
    {
      "cell_type": "code",
      "source": [
        "# --- Define Data Generators with Augmentation ---\n",
        "try:\n",
        "    # Define paths to the dataset folders\n",
        "    train_dir = os.path.join(dataset_dir, 'chest_xray', 'train')\n",
        "    val_dir = os.path.join(dataset_dir, 'chest_xray', 'val')\n",
        "    test_dir = os.path.join(dataset_dir, 'chest_xray', 'test')\n",
        "\n",
        "    # Basic error check for folder existence\n",
        "    if not all(os.path.exists(d) for d in [train_dir, val_dir, test_dir]):\n",
        "        raise FileNotFoundError(\"Dataset directories not found. Please check paths.\")\n",
        "\n",
        "    # Data augmentation for the training set to prevent overfitting\n",
        "    train_datagen = ImageDataGenerator(\n",
        "        rescale=1./255,\n",
        "        rotation_range=15, # Reduced range for faster augmentation\n",
        "        zoom_range=0.1,    # Reduced range\n",
        "        horizontal_flip=True,\n",
        "    )\n",
        "\n",
        "    # Only rescale validation and test data\n",
        "    test_datagen = ImageDataGenerator(rescale=1./255)\n",
        "\n",
        "    # Use flow_from_directory to create generators\n",
        "    IMG_SIZE = 150\n",
        "    BATCH_SIZE = 32\n",
        "\n",
        "    train_generator = train_datagen.flow_from_directory(\n",
        "        train_dir,\n",
        "        target_size=(IMG_SIZE, IMG_SIZE),\n",
        "        batch_size=BATCH_SIZE,\n",
        "        class_mode='binary'\n",
        "    )\n",
        "\n",
        "    validation_generator = test_datagen.flow_from_directory(\n",
        "        val_dir,\n",
        "        target_size=(IMG_SIZE, IMG_SIZE),\n",
        "        batch_size=BATCH_SIZE,\n",
        "        class_mode='binary'\n",
        "    )\n",
        "\n",
        "    test_generator = test_datagen.flow_from_directory(\n",
        "        test_dir,\n",
        "        target_size=(IMG_SIZE, IMG_SIZE),\n",
        "        batch_size=BATCH_SIZE,\n",
        "        class_mode='binary',\n",
        "        shuffle=False\n",
        "    )\n",
        "\n",
        "except Exception as e:\n",
        "    print(f\"An error occurred during data preprocessing: {e}\")\n",
        "\n"
      ],
      "metadata": {
        "colab": {
          "base_uri": "https://localhost:8080/"
        },
        "id": "DMBdZMx2Yn3k",
        "outputId": "9b7ce59a-dc84-45a6-ad66-3841dfc6fd96"
      },
      "execution_count": 5,
      "outputs": [
        {
          "output_type": "stream",
          "name": "stdout",
          "text": [
            "Found 5216 images belonging to 2 classes.\n",
            "Found 16 images belonging to 2 classes.\n",
            "Found 624 images belonging to 2 classes.\n"
          ]
        }
      ]
    },
    {
      "cell_type": "code",
      "source": [
        "\n",
        "# --- Define a Hypermodel Building Function with a smaller search space ---\n",
        "def build_model(hp):\n",
        "    \"\"\"\n",
        "    Builds a CNN model with a simplified, faster-to-tune hyperparameter search space.\n",
        "    \"\"\"\n",
        "    model = Sequential()\n",
        "\n",
        "    # We will only tune the number of filters and a single dense layer's units\n",
        "\n",
        "    # Tunable number of filters for the first conv layer\n",
        "    filters_1 = hp.Choice('filters_1', values=[32, 64])\n",
        "    model.add(Conv2D(\n",
        "        filters=filters_1,\n",
        "        kernel_size=(3, 3),\n",
        "        activation='relu',\n",
        "        input_shape=(IMG_SIZE, IMG_SIZE, 3)\n",
        "    ))\n",
        "    model.add(BatchNormalization())\n",
        "    model.add(MaxPooling2D(pool_size=(2, 2)))\n",
        "\n",
        "    # Tunable number of filters for the second conv layer\n",
        "    filters_2 = hp.Choice('filters_2', values=[64, 128])\n",
        "    model.add(Conv2D(\n",
        "        filters=filters_2,\n",
        "        kernel_size=(3, 3),\n",
        "        activation='relu',\n",
        "    ))\n",
        "    model.add(BatchNormalization())\n",
        "    model.add(MaxPooling2D(pool_size=(2, 2)))\n",
        "\n",
        "    # Flatten the output\n",
        "    model.add(Flatten())\n",
        "\n",
        "    # Tunable number of units for a single dense layer\n",
        "    units = hp.Choice('units', values=[256, 512])\n",
        "    model.add(Dense(units=units, activation='relu'))\n",
        "\n",
        "    # Tunable dropout rate\n",
        "    dropout_rate = hp.Choice('dropout', values=[0.3, 0.5])\n",
        "    model.add(Dropout(rate=dropout_rate))\n",
        "\n",
        "    # Final output layer\n",
        "    model.add(Dense(1, activation='sigmoid'))\n",
        "\n",
        "    # Tunable learning rate\n",
        "    learning_rate = hp.Choice('learning_rate', values=[1e-4, 1e-3])\n",
        "\n",
        "    model.compile(\n",
        "        optimizer=tf.keras.optimizers.Adam(learning_rate=learning_rate),\n",
        "        loss='binary_crossentropy',\n",
        "        metrics=['accuracy']\n",
        "    )\n",
        "\n",
        "    return model\n"
      ],
      "metadata": {
        "id": "KNlNKH6kYktW"
      },
      "execution_count": 6,
      "outputs": []
    },
    {
      "cell_type": "code",
      "source": [
        "\n",
        "\n",
        "\n",
        "# --- Instantiate and Run the Tuner with a small number of trials ---\n",
        "try:\n",
        "    tuner = kt.RandomSearch(\n",
        "        build_model,\n",
        "        objective='val_accuracy',\n",
        "        max_trials=5, # Limit to only 5 unique models\n",
        "        executions_per_trial=1, # No need to run the same model multiple times\n",
        "        directory='my_dir_simple',\n",
        "        project_name='pneumonia_simple_tuning'\n",
        "    )\n",
        "\n",
        "    print(\"Starting hyperparameter search...\")\n",
        "\n",
        "    stop_early = tf.keras.callbacks.EarlyStopping(monitor='val_loss', patience=2)\n",
        "\n",
        "    tuner.search(\n",
        "        train_generator,\n",
        "        epochs=5, # Significantly reduced number of epochs per trial\n",
        "        validation_data=validation_generator,\n",
        "        callbacks=[stop_early],\n",
        "        steps_per_epoch=train_generator.samples // BATCH_SIZE\n",
        "    )\n",
        "\n",
        "    print(\"Hyperparameter search complete.\")\n",
        "\n",
        "    # Get the optimal hyperparameters and the best model\n",
        "    best_hps = tuner.get_best_hyperparameters(num_trials=1)[0]\n",
        "    best_model = tuner.get_best_models(num_models=1)[0]\n",
        "\n",
        "    print(\"\\n--- Best Hyperparameters Found ---\")\n",
        "    print(f\"Optimal filters_1: {best_hps.get('filters_1')}\")\n",
        "    print(f\"Optimal filters_2: {best_hps.get('filters_2')}\")\n",
        "    print(f\"Optimal units: {best_hps.get('units')}\")\n",
        "    print(f\"Optimal learning rate: {best_hps.get('learning_rate'):.5f}\")\n",
        "\n",
        "except Exception as e:\n",
        "    print(f\"An error occurred during hyperparameter tuning: {e}\")"
      ],
      "metadata": {
        "colab": {
          "base_uri": "https://localhost:8080/",
          "height": 786
        },
        "id": "K0rC3mAaXgv2",
        "outputId": "ac55a5d1-1aa7-4e94-aff8-36b902834eb5"
      },
      "execution_count": 1,
      "outputs": [
        {
          "output_type": "stream",
          "name": "stdout",
          "text": [
            "Trial 5 Complete [00h 21m 59s]\n",
            "val_accuracy: 0.5\n",
            "\n",
            "Best val_accuracy So Far: 0.9375\n",
            "Total elapsed time: 03h 49m 16s\n",
            "Hyperparameter search complete.\n",
            "\n",
            "--- Best Hyperparameters Found ---\n",
            "Optimal filters_1: 32\n",
            "Optimal filters_2: 128\n",
            "Optimal units: 256\n",
            "Optimal learning rate: 0.00100\n"
          ]
        },
        {
          "output_type": "stream",
          "name": "stderr",
          "text": [
            "/usr/local/lib/python3.12/dist-packages/keras/src/saving/saving_lib.py:802: UserWarning: Skipping variable loading for optimizer 'adam', because it has 2 variables whereas the saved optimizer has 26 variables. \n",
            "  saveable.load_own_variables(weights_store.get(inner_path))\n"
          ]
        }
      ]
    },
    {
      "cell_type": "code",
      "source": [
        "# --- Retrieve and display the results summary ---\n",
        "try:\n",
        "    print(\"\\n--- Hyperparameter Tuning Results Summary ---\")\n",
        "    tuner.results_summary()\n",
        "\n",
        "    # You can also get a list of all trials\n",
        "    trials = tuner.oracle.get_best_trials(num_trials=None)\n",
        "\n",
        "except Exception as e:\n",
        "    print(f\"An error occurred while retrieving tuning results: {e}\")"
      ],
      "metadata": {
        "colab": {
          "base_uri": "https://localhost:8080/"
        },
        "id": "YO6xgeKyZPpK",
        "outputId": "16e103ab-a5f5-4353-8ff0-67fa779a1488"
      },
      "execution_count": 7,
      "outputs": [
        {
          "output_type": "stream",
          "name": "stdout",
          "text": [
            "\n",
            "--- Hyperparameter Tuning Results Summary ---\n",
            "Results summary\n",
            "Results in my_dir_simple/pneumonia_simple_tuning\n",
            "Showing 10 best trials\n",
            "Objective(name=\"val_accuracy\", direction=\"max\")\n",
            "\n",
            "Trial 2 summary\n",
            "Hyperparameters:\n",
            "filters_1: 32\n",
            "filters_2: 128\n",
            "units: 256\n",
            "dropout: 0.5\n",
            "learning_rate: 0.001\n",
            "Score: 0.9375\n",
            "\n",
            "Trial 3 summary\n",
            "Hyperparameters:\n",
            "filters_1: 32\n",
            "filters_2: 64\n",
            "units: 512\n",
            "dropout: 0.3\n",
            "learning_rate: 0.001\n",
            "Score: 0.8125\n",
            "\n",
            "Trial 1 summary\n",
            "Hyperparameters:\n",
            "filters_1: 64\n",
            "filters_2: 64\n",
            "units: 512\n",
            "dropout: 0.3\n",
            "learning_rate: 0.001\n",
            "Score: 0.75\n",
            "\n",
            "Trial 0 summary\n",
            "Hyperparameters:\n",
            "filters_1: 64\n",
            "filters_2: 64\n",
            "units: 256\n",
            "dropout: 0.5\n",
            "learning_rate: 0.0001\n",
            "Score: 0.6875\n",
            "\n",
            "Trial 4 summary\n",
            "Hyperparameters:\n",
            "filters_1: 32\n",
            "filters_2: 64\n",
            "units: 256\n",
            "dropout: 0.3\n",
            "learning_rate: 0.0001\n",
            "Score: 0.5\n",
            "An error occurred while retrieving tuning results: '<' not supported between instances of 'int' and 'NoneType'\n"
          ]
        }
      ]
    },
    {
      "cell_type": "code",
      "source": [
        "# --- Visualize the relationship between hyperparameters and performance ---\n",
        "try:\n",
        "    print(\"\\n--- Visualizing Hyperparameter Performance ---\")\n",
        "\n",
        "    # Extract data from all trials\n",
        "    all_trials = tuner.oracle.trials.values()\n",
        "\n",
        "    # Check if there are trials to analyze\n",
        "    if not all_trials:\n",
        "        raise ValueError(\"No trials found to visualize. Please ensure tuning completed successfully.\")\n",
        "\n",
        "    data = []\n",
        "    for trial in all_trials:\n",
        "        if 'val_accuracy' in trial.metrics.metrics:\n",
        "            trial_data = {\n",
        "                'filters_1': trial.hyperparameters.get('filters_1'),\n",
        "                'filters_2': trial.hyperparameters.get('filters_2'),\n",
        "                'units': trial.hyperparameters.get('units'),\n",
        "                'learning_rate': trial.hyperparameters.get('learning_rate'),\n",
        "                'accuracy': trial.metrics.get_last_value('val_accuracy'),\n",
        "            }\n",
        "            data.append(trial_data)\n",
        "\n",
        "    if not data:\n",
        "        raise ValueError(\"No trial data with validation accuracy found. Check metrics.\")\n",
        "\n",
        "    import pandas as pd\n",
        "    import seaborn as sns\n",
        "\n",
        "    df = pd.DataFrame(data)\n",
        "\n",
        "    # Plot 1: Bar plots for discrete hyperparameters\n",
        "    fig, axes = plt.subplots(1, 3, figsize=(18, 5))\n",
        "    fig.suptitle('Impact of Discrete Hyperparameters on Validation Accuracy')\n",
        "\n",
        "    sns.barplot(x='filters_1', y='accuracy', data=df, ax=axes[0], palette='viridis')\n",
        "    axes[0].set_title('Filters 1')\n",
        "    axes[0].set_ylabel('Validation Accuracy')\n",
        "\n",
        "    sns.barplot(x='filters_2', y='accuracy', data=df, ax=axes[1], palette='plasma')\n",
        "    axes[1].set_title('Filters 2')\n",
        "    axes[1].set_ylabel('Validation Accuracy')\n",
        "\n",
        "    sns.barplot(x='units', y='accuracy', data=df, ax=axes[2], palette='magma')\n",
        "    axes[2].set_title('Dense Units')\n",
        "    axes[2].set_ylabel('Validation Accuracy')\n",
        "\n",
        "    plt.tight_layout()\n",
        "    plt.show()\n",
        "\n",
        "    # Plot 2: Scatter plot for continuous hyperparameters (e.g., learning rate)\n",
        "    plt.figure(figsize=(8, 6))\n",
        "    sns.scatterplot(x='learning_rate', y='accuracy', data=df, hue='accuracy', size='accuracy', palette='coolwarm', sizes=(20, 200))\n",
        "    plt.xscale('log') # Use log scale for learning rate\n",
        "    plt.title('Impact of Learning Rate on Validation Accuracy')\n",
        "    plt.xlabel('Learning Rate (log scale)')\n",
        "    plt.ylabel('Validation Accuracy')\n",
        "    plt.show()\n",
        "\n",
        "except Exception as e:\n",
        "    print(f\"An error occurred during plotting: {e}\")"
      ],
      "metadata": {
        "colab": {
          "base_uri": "https://localhost:8080/",
          "height": 1000
        },
        "id": "UeXQw7rLXhIu",
        "outputId": "91e73992-7f27-4ef9-87e5-75abe9747d0b"
      },
      "execution_count": 8,
      "outputs": [
        {
          "output_type": "stream",
          "name": "stdout",
          "text": [
            "\n",
            "--- Visualizing Hyperparameter Performance ---\n"
          ]
        },
        {
          "output_type": "stream",
          "name": "stderr",
          "text": [
            "/tmp/ipython-input-307274109.py:36: FutureWarning: \n",
            "\n",
            "Passing `palette` without assigning `hue` is deprecated and will be removed in v0.14.0. Assign the `x` variable to `hue` and set `legend=False` for the same effect.\n",
            "\n",
            "  sns.barplot(x='filters_1', y='accuracy', data=df, ax=axes[0], palette='viridis')\n",
            "/tmp/ipython-input-307274109.py:40: FutureWarning: \n",
            "\n",
            "Passing `palette` without assigning `hue` is deprecated and will be removed in v0.14.0. Assign the `x` variable to `hue` and set `legend=False` for the same effect.\n",
            "\n",
            "  sns.barplot(x='filters_2', y='accuracy', data=df, ax=axes[1], palette='plasma')\n",
            "/tmp/ipython-input-307274109.py:44: FutureWarning: \n",
            "\n",
            "Passing `palette` without assigning `hue` is deprecated and will be removed in v0.14.0. Assign the `x` variable to `hue` and set `legend=False` for the same effect.\n",
            "\n",
            "  sns.barplot(x='units', y='accuracy', data=df, ax=axes[2], palette='magma')\n"
          ]
        },
        {
          "output_type": "display_data",
          "data": {
            "text/plain": [
              "<Figure size 1800x500 with 3 Axes>"
            ],
            "image/png": "[encoded data removed]"
          },
          "metadata": {}
        },
        {
          "output_type": "display_data",
          "data": {
            "text/plain": [
              "<Figure size 800x600 with 1 Axes>"
            ],
            "image/png": "[encoded data removed]"
          },
          "metadata": {}
        }
      ]
    },
    {
      "cell_type": "code",
      "source": [],
      "metadata": {
        "id": "BUomT-xbZTFF"
      },
      "execution_count": null,
      "outputs": []
    }
  ]
}