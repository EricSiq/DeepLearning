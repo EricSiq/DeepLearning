{
  "nbformat": 4,
  "nbformat_minor": 0,
  "metadata": {
    "colab": {
      "provenance": [],
      "authorship_tag": "ABX9TyM2cLL8gkkJ94QPLwFMvJrW",
      "include_colab_link": true
    },
    "kernelspec": {
      "name": "python3",
      "display_name": "Python 3"
    },
    "language_info": {
      "name": "python"
    }
  },
  "cells": [
    {
      "cell_type": "markdown",
      "metadata": {
        "id": "view-in-github",
        "colab_type": "text"
      },
      "source": [
        "<a href=\"https://colab.research.google.com/github/EricSiq/DeepLearning/blob/main/ExperimentNo4_without_TensorFlow.ipynb\" target=\"_parent\"><img src=\"https://colab.research.google.com/assets/colab-badge.svg\" alt=\"Open In Colab\"/></a>"
      ]
    },
    {
      "cell_type": "code",
      "execution_count": 2,
      "metadata": {
        "id": "MskiSE48hipH"
      },
      "outputs": [],
      "source": [
        "import pandas as pd\n",
        "import numpy as np\n",
        "from sklearn.model_selection import train_test_split\n",
        "from sklearn.preprocessing import StandardScaler, LabelBinarizer\n",
        "from sklearn.metrics import accuracy_score"
      ]
    },
    {
      "cell_type": "code",
      "source": [
        "#Initialize network\n",
        "def initialize_network(input_size, hidden_layer, output_size):\n",
        "  np.random.seed(42)\n",
        "  network={}\n",
        "  layer_sizes = [input_size] + hidden_layer + [output_size]\n",
        "  for i in range(len(layer_sizes)-1):\n",
        "    layer = {\n",
        "        'weights': np.random.randn(layer_sizes[i], layer_sizes[i+1]) * 0.1,\n",
        "        'biases': np.zeros((1, layer_sizes[i+1]))\n",
        "      }\n",
        "    network[f'layer_{i+1}'] = layer # Use a meaningful key for each layer\n",
        "  return network"
      ],
      "metadata": {
        "id": "z2kMvSGAh8IV"
      },
      "execution_count": 4,
      "outputs": []
    },
    {
      "cell_type": "code",
      "source": [
        "input_size=X_train.shape[1]\n",
        "hidden_layers =[8,8]\n",
        "output_size = y_train.shape[1]\n",
        "network=initialize_network(input_size, hidden_layers, output_size)\n",
        "\n",
        "#Define activation function\n",
        "def sigmoid(x):\n",
        "  return 1/ (1+np.exp)\n",
        "\n",
        "def sigmoid_derivative(x)\n",
        "  return x * (1-x)\n",
        "\n",
        "#Forward propagation\n",
        "def forward_propagation(netowrk,inputs,targets,learning_rate):\n",
        "  #forward_propagation(network,inputs,targets,learning_rate)\n",
        "def train_network\n",
        "  for epoch in range(epochs)\n",
        "    #backward_propagation(network,inputs,targets,learning_rate)\n",
        "    forward_propagation(network,inputs,targets,learning_rate)\n",
        "    #update_weights(network,inputs,targets,learning_rate)\n",
        "\n",
        "  def forward_propagation(network,inputs,targets,learning_rate):\n",
        "    activations = inputs\n",
        "    for layers\n",
        "    if(epoch+1)%100 ==0:\n",
        "      loss = np.mean"
      ],
      "metadata": {
        "id": "WKzqhYIKi6iN"
      },
      "execution_count": null,
      "outputs": []
    }
  ]
}