{
 "cells": [
  {
   "cell_type": "code",
   "execution_count": 1,
   "id": "417f8f02-1d1f-4866-ab6b-f18e9eb58f33",
   "metadata": {
    "execution": {
     "iopub.execute_input": "2025-08-21T05:44:44.013720Z",
     "iopub.status.busy": "2025-08-21T05:44:44.013422Z",
     "iopub.status.idle": "2025-08-21T05:44:46.998499Z",
     "shell.execute_reply": "2025-08-21T05:44:46.997830Z",
     "shell.execute_reply.started": "2025-08-21T05:44:44.013695Z"
    }
   },
   "outputs": [
    {
     "name": "stdout",
     "output_type": "stream",
     "text": [
      "Collecting strands-agents\n",
      "  Downloading strands_agents-1.5.0-py3-none-any.whl.metadata (12 kB)\n",
      "Requirement already satisfied: boto3<2.0.0,>=1.26.0 in /opt/conda/lib/python3.12/site-packages (from strands-agents) (1.37.1)\n",
      "Requirement already satisfied: botocore<2.0.0,>=1.29.0 in /opt/conda/lib/python3.12/site-packages (from strands-agents) (1.37.1)\n",
      "Collecting docstring-parser<1.0,>=0.15 (from strands-agents)\n",
      "  Downloading docstring_parser-0.17.0-py3-none-any.whl.metadata (3.5 kB)\n",
      "Collecting mcp<2.0.0,>=1.11.0 (from strands-agents)\n",
      "  Downloading mcp-1.13.0-py3-none-any.whl.metadata (68 kB)\n",
      "Requirement already satisfied: opentelemetry-api<2.0.0,>=1.30.0 in /opt/conda/lib/python3.12/site-packages (from strands-agents) (1.34.1)\n",
      "Collecting opentelemetry-instrumentation-threading<1.00b0,>=0.51b0 (from strands-agents)\n",
      "  Downloading opentelemetry_instrumentation_threading-0.57b0-py3-none-any.whl.metadata (2.1 kB)\n",
      "Requirement already satisfied: opentelemetry-sdk<2.0.0,>=1.30.0 in /opt/conda/lib/python3.12/site-packages (from strands-agents) (1.34.1)\n",
      "Requirement already satisfied: pydantic<3.0.0,>=2.0.0 in /opt/conda/lib/python3.12/site-packages (from strands-agents) (2.11.7)\n",
      "Requirement already satisfied: typing-extensions<5.0.0,>=4.13.2 in /opt/conda/lib/python3.12/site-packages (from strands-agents) (4.14.1)\n",
      "Collecting watchdog<7.0.0,>=6.0.0 (from strands-agents)\n",
      "  Downloading watchdog-6.0.0-py3-none-manylinux2014_x86_64.whl.metadata (44 kB)\n",
      "Requirement already satisfied: jmespath<2.0.0,>=0.7.1 in /opt/conda/lib/python3.12/site-packages (from boto3<2.0.0,>=1.26.0->strands-agents) (1.0.1)\n",
      "Requirement already satisfied: s3transfer<0.12.0,>=0.11.0 in /opt/conda/lib/python3.12/site-packages (from boto3<2.0.0,>=1.26.0->strands-agents) (0.11.3)\n",
      "Requirement already satisfied: python-dateutil<3.0.0,>=2.1 in /opt/conda/lib/python3.12/site-packages (from botocore<2.0.0,>=1.29.0->strands-agents) (2.9.0.post0)\n",
      "Requirement already satisfied: urllib3!=2.2.0,<3,>=1.25.4 in /opt/conda/lib/python3.12/site-packages (from botocore<2.0.0,>=1.29.0->strands-agents) (1.26.19)\n",
      "Requirement already satisfied: anyio>=4.5 in /opt/conda/lib/python3.12/site-packages (from mcp<2.0.0,>=1.11.0->strands-agents) (4.9.0)\n",
      "Requirement already satisfied: httpx-sse>=0.4 in /opt/conda/lib/python3.12/site-packages (from mcp<2.0.0,>=1.11.0->strands-agents) (0.4.1)\n",
      "Requirement already satisfied: httpx>=0.27.1 in /opt/conda/lib/python3.12/site-packages (from mcp<2.0.0,>=1.11.0->strands-agents) (0.28.1)\n",
      "Requirement already satisfied: jsonschema>=4.20.0 in /opt/conda/lib/python3.12/site-packages (from mcp<2.0.0,>=1.11.0->strands-agents) (4.23.0)\n",
      "Requirement already satisfied: pydantic-settings>=2.5.2 in /opt/conda/lib/python3.12/site-packages (from mcp<2.0.0,>=1.11.0->strands-agents) (2.10.1)\n",
      "Requirement already satisfied: python-multipart>=0.0.9 in /opt/conda/lib/python3.12/site-packages (from mcp<2.0.0,>=1.11.0->strands-agents) (0.0.20)\n",
      "Collecting sse-starlette>=1.6.1 (from mcp<2.0.0,>=1.11.0->strands-agents)\n",
      "  Downloading sse_starlette-3.0.2-py3-none-any.whl.metadata (11 kB)\n",
      "Requirement already satisfied: starlette>=0.27 in /opt/conda/lib/python3.12/site-packages (from mcp<2.0.0,>=1.11.0->strands-agents) (0.46.2)\n",
      "Requirement already satisfied: uvicorn>=0.31.1 in /opt/conda/lib/python3.12/site-packages (from mcp<2.0.0,>=1.11.0->strands-agents) (0.35.0)\n",
      "Requirement already satisfied: importlib-metadata<8.8.0,>=6.0 in /opt/conda/lib/python3.12/site-packages (from opentelemetry-api<2.0.0,>=1.30.0->strands-agents) (6.10.0)\n",
      "Requirement already satisfied: zipp>=0.5 in /opt/conda/lib/python3.12/site-packages (from importlib-metadata<8.8.0,>=6.0->opentelemetry-api<2.0.0,>=1.30.0->strands-agents) (3.23.0)\n",
      "Collecting opentelemetry-instrumentation==0.57b0 (from opentelemetry-instrumentation-threading<1.00b0,>=0.51b0->strands-agents)\n",
      "  Downloading opentelemetry_instrumentation-0.57b0-py3-none-any.whl.metadata (6.7 kB)\n",
      "Requirement already satisfied: wrapt<2.0.0,>=1.0.0 in /opt/conda/lib/python3.12/site-packages (from opentelemetry-instrumentation-threading<1.00b0,>=0.51b0->strands-agents) (1.17.2)\n",
      "Collecting opentelemetry-semantic-conventions==0.57b0 (from opentelemetry-instrumentation==0.57b0->opentelemetry-instrumentation-threading<1.00b0,>=0.51b0->strands-agents)\n",
      "  Downloading opentelemetry_semantic_conventions-0.57b0-py3-none-any.whl.metadata (2.4 kB)\n",
      "Requirement already satisfied: packaging>=18.0 in /opt/conda/lib/python3.12/site-packages (from opentelemetry-instrumentation==0.57b0->opentelemetry-instrumentation-threading<1.00b0,>=0.51b0->strands-agents) (24.2)\n",
      "Collecting opentelemetry-api<2.0.0,>=1.30.0 (from strands-agents)\n",
      "  Downloading opentelemetry_api-1.36.0-py3-none-any.whl.metadata (1.5 kB)\n",
      "INFO: pip is looking at multiple versions of opentelemetry-sdk to determine which version is compatible with other requirements. This could take a while.\n",
      "Collecting opentelemetry-sdk<2.0.0,>=1.30.0 (from strands-agents)\n",
      "  Downloading opentelemetry_sdk-1.36.0-py3-none-any.whl.metadata (1.5 kB)\n",
      "Requirement already satisfied: annotated-types>=0.6.0 in /opt/conda/lib/python3.12/site-packages (from pydantic<3.0.0,>=2.0.0->strands-agents) (0.7.0)\n",
      "Requirement already satisfied: pydantic-core==2.33.2 in /opt/conda/lib/python3.12/site-packages (from pydantic<3.0.0,>=2.0.0->strands-agents) (2.33.2)\n",
      "Requirement already satisfied: typing-inspection>=0.4.0 in /opt/conda/lib/python3.12/site-packages (from pydantic<3.0.0,>=2.0.0->strands-agents) (0.4.1)\n",
      "Requirement already satisfied: six>=1.5 in /opt/conda/lib/python3.12/site-packages (from python-dateutil<3.0.0,>=2.1->botocore<2.0.0,>=1.29.0->strands-agents) (1.17.0)\n",
      "Requirement already satisfied: idna>=2.8 in /opt/conda/lib/python3.12/site-packages (from anyio>=4.5->mcp<2.0.0,>=1.11.0->strands-agents) (3.10)\n",
      "Requirement already satisfied: sniffio>=1.1 in /opt/conda/lib/python3.12/site-packages (from anyio>=4.5->mcp<2.0.0,>=1.11.0->strands-agents) (1.3.1)\n",
      "Requirement already satisfied: certifi in /opt/conda/lib/python3.12/site-packages (from httpx>=0.27.1->mcp<2.0.0,>=1.11.0->strands-agents) (2025.6.15)\n",
      "Requirement already satisfied: httpcore==1.* in /opt/conda/lib/python3.12/site-packages (from httpx>=0.27.1->mcp<2.0.0,>=1.11.0->strands-agents) (1.0.9)\n",
      "Requirement already satisfied: h11>=0.16 in /opt/conda/lib/python3.12/site-packages (from httpcore==1.*->httpx>=0.27.1->mcp<2.0.0,>=1.11.0->strands-agents) (0.16.0)\n",
      "Requirement already satisfied: attrs>=22.2.0 in /opt/conda/lib/python3.12/site-packages (from jsonschema>=4.20.0->mcp<2.0.0,>=1.11.0->strands-agents) (23.2.0)\n",
      "Requirement already satisfied: jsonschema-specifications>=2023.03.6 in /opt/conda/lib/python3.12/site-packages (from jsonschema>=4.20.0->mcp<2.0.0,>=1.11.0->strands-agents) (2025.4.1)\n",
      "Requirement already satisfied: referencing>=0.28.4 in /opt/conda/lib/python3.12/site-packages (from jsonschema>=4.20.0->mcp<2.0.0,>=1.11.0->strands-agents) (0.36.2)\n",
      "Requirement already satisfied: rpds-py>=0.7.1 in /opt/conda/lib/python3.12/site-packages (from jsonschema>=4.20.0->mcp<2.0.0,>=1.11.0->strands-agents) (0.26.0)\n",
      "Requirement already satisfied: python-dotenv>=0.21.0 in /opt/conda/lib/python3.12/site-packages (from pydantic-settings>=2.5.2->mcp<2.0.0,>=1.11.0->strands-agents) (1.1.1)\n",
      "Requirement already satisfied: click>=7.0 in /opt/conda/lib/python3.12/site-packages (from uvicorn>=0.31.1->mcp<2.0.0,>=1.11.0->strands-agents) (8.2.1)\n",
      "Downloading strands_agents-1.5.0-py3-none-any.whl (180 kB)\n",
      "Downloading docstring_parser-0.17.0-py3-none-any.whl (36 kB)\n",
      "Downloading mcp-1.13.0-py3-none-any.whl (160 kB)\n",
      "Downloading opentelemetry_instrumentation_threading-0.57b0-py3-none-any.whl (9.3 kB)\n",
      "Downloading opentelemetry_instrumentation-0.57b0-py3-none-any.whl (32 kB)\n",
      "Downloading opentelemetry_semantic_conventions-0.57b0-py3-none-any.whl (201 kB)\n",
      "Downloading opentelemetry_api-1.36.0-py3-none-any.whl (65 kB)\n",
      "Downloading opentelemetry_sdk-1.36.0-py3-none-any.whl (119 kB)\n",
      "Downloading watchdog-6.0.0-py3-none-manylinux2014_x86_64.whl (79 kB)\n",
      "Downloading sse_starlette-3.0.2-py3-none-any.whl (11 kB)\n",
      "Installing collected packages: watchdog, docstring-parser, sse-starlette, opentelemetry-api, opentelemetry-semantic-conventions, opentelemetry-sdk, opentelemetry-instrumentation, mcp, opentelemetry-instrumentation-threading, strands-agents\n",
      "\u001b[2K  Attempting uninstall: opentelemetry-api\n",
      "\u001b[2K    Found existing installation: opentelemetry-api 1.34.1\n",
      "\u001b[2K    Uninstalling opentelemetry-api-1.34.1:\n",
      "\u001b[2K      Successfully uninstalled opentelemetry-api-1.34.1\n",
      "\u001b[2K  Attempting uninstall: opentelemetry-semantic-conventions━━━━━━━━\u001b[0m \u001b[32m 3/10\u001b[0m [opentelemetry-api]\n",
      "\u001b[2K    Found existing installation: opentelemetry-semantic-conventions 0.55b1/10\u001b[0m [opentelemetry-api]\n",
      "\u001b[2K    Uninstalling opentelemetry-semantic-conventions-0.55b1:━━━\u001b[0m \u001b[32m 3/10\u001b[0m [opentelemetry-api]\n",
      "\u001b[2K      Successfully uninstalled opentelemetry-semantic-conventions-0.55b1 3/10\u001b[0m [opentelemetry-api]\n",
      "\u001b[2K  Attempting uninstall: opentelemetry-sdk━━━━━━━━━━━━━━━━━━━━━\u001b[0m \u001b[32m 3/10\u001b[0m [opentelemetry-api]\n",
      "\u001b[2K    Found existing installation: opentelemetry-sdk 1.34.1━━━━━\u001b[0m \u001b[32m 3/10\u001b[0m [opentelemetry-api]\n",
      "\u001b[2K    Uninstalling opentelemetry-sdk-1.34.1:━━━━━━━━━━━━━━━━━━━━\u001b[0m \u001b[32m 3/10\u001b[0m [opentelemetry-api]\n",
      "\u001b[2K      Successfully uninstalled opentelemetry-sdk-1.34.1━━━━━━━\u001b[0m \u001b[32m 3/10\u001b[0m [opentelemetry-api]\n",
      "\u001b[2K   \u001b[90m━━━━━━━━━━━━━━━━━━━━━━━━━━━━━━━━━━━━━━━━\u001b[0m \u001b[32m10/10\u001b[0m [strands-agents]m [mcp]telemetry-sdk]\n",
      "\u001b[1A\u001b[2KSuccessfully installed docstring-parser-0.17.0 mcp-1.13.0 opentelemetry-api-1.36.0 opentelemetry-instrumentation-0.57b0 opentelemetry-instrumentation-threading-0.57b0 opentelemetry-sdk-1.36.0 opentelemetry-semantic-conventions-0.57b0 sse-starlette-3.0.2 strands-agents-1.5.0 watchdog-6.0.0\n"
     ]
    }
   ],
   "source": [
    "!pip install strands-agents"
   ]
  },
  {
   "cell_type": "code",
   "execution_count": 3,
   "id": "fbddfb6b-7457-4788-a698-94acd181de3a",
   "metadata": {
    "execution": {
     "iopub.execute_input": "2025-08-21T05:47:10.740280Z",
     "iopub.status.busy": "2025-08-21T05:47:10.739954Z",
     "iopub.status.idle": "2025-08-21T05:47:10.743147Z",
     "shell.execute_reply": "2025-08-21T05:47:10.742592Z",
     "shell.execute_reply.started": "2025-08-21T05:47:10.740259Z"
    }
   },
   "outputs": [],
   "source": [
    "from strands import Agent"
   ]
  },
  {
   "cell_type": "code",
   "execution_count": 4,
   "id": "1380112f-2bac-4550-ae14-7c98dbfb20a2",
   "metadata": {
    "execution": {
     "iopub.execute_input": "2025-08-21T05:49:19.151465Z",
     "iopub.status.busy": "2025-08-21T05:49:19.151149Z",
     "iopub.status.idle": "2025-08-21T05:49:19.212697Z",
     "shell.execute_reply": "2025-08-21T05:49:19.212171Z",
     "shell.execute_reply.started": "2025-08-21T05:49:19.151446Z"
    }
   },
   "outputs": [],
   "source": [
    "agent=Agent()"
   ]
  },
  {
   "cell_type": "code",
   "execution_count": 5,
   "id": "bb2b7bb9-e28f-4124-9e27-68f12d1e1df3",
   "metadata": {
    "execution": {
     "iopub.execute_input": "2025-08-21T05:59:30.581763Z",
     "iopub.status.busy": "2025-08-21T05:59:30.581445Z",
     "iopub.status.idle": "2025-08-21T05:59:42.253054Z",
     "shell.execute_reply": "2025-08-21T05:59:42.252522Z",
     "shell.execute_reply.started": "2025-08-21T05:59:30.581741Z"
    }
   },
   "outputs": [
    {
     "name": "stdout",
     "output_type": "stream",
     "text": [
      "Quantum computing and agentic AI represent a fascinating intersection with significant theoretical potential, though practical implementations are still in early stages. Let me break this down:\n",
      "\n",
      "## How Quantum Computing Could Enhance AI Agents\n",
      "\n",
      "### 1. **Quantum Optimization for Decision Making**\n",
      "- Quantum algorithms like QAOA (Quantum Approximate Optimization Algorithm) could help agents solve complex optimization problems\n",
      "- Better route planning, resource allocation, and multi-objective decision making\n",
      "- Quantum annealing for constraint satisfaction problems\n",
      "\n",
      "### 2. **Enhanced Learning Capabilities**\n",
      "- Quantum machine learning algorithms could accelerate training\n",
      "- Quantum neural networks might process information in fundamentally different ways\n",
      "- Potential for exponential speedups in certain pattern recognition tasks\n",
      "\n",
      "### 3. **Parallel Processing of Possibilities**\n",
      "- Quantum superposition could allow agents to evaluate multiple decision paths simultaneously\n",
      "- Monte Carlo tree search enhanced with quantum sampling\n",
      "- Exploring vast solution spaces more efficiently\n",
      "\n",
      "### 4. **Quantum-Enhanced Perception**\n",
      "- Quantum algorithms for signal processing and sensor fusion\n",
      "- Better handling of noisy, uncertain sensor data\n",
      "- Quantum feature mapping for high-dimensional data\n",
      "\n",
      "## Current State of Quantum Agents\n",
      "\n",
      "### **Limited Successful Implementations:**\n",
      "\n",
      "1. **IBM's Quantum Machine Learning Experiments**\n",
      "   - Quantum classifiers for simple decision-making tasks\n",
      "   - Hybrid classical-quantum approaches for optimization\n",
      "\n",
      "2. **Google's Quantum AI Research**\n",
      "   - Quantum reinforcement learning proof-of-concepts\n",
      "   - Small-scale quantum neural networks\n",
      "\n",
      "3. **Academic Prototypes**\n",
      "   - Quantum game-playing agents (simple games)\n",
      "   - Quantum-enhanced portfolio optimization agents\n",
      "   - Quantum approximate optimization for logistics\n",
      "\n",
      "### **Key Challenges:**\n",
      "\n",
      "- **Hardware Limitations**: Current quantum computers are noisy and have limited qubits\n",
      "- **Decoherence**: Quantum states are fragile and short-lived\n",
      "- **Integration Complexity**: Bridging quantum and classical computing systems\n",
      "- **Scalability**: Most demonstrations work only on toy problems\n",
      "\n",
      "## Promising Near-term Applications\n",
      "\n",
      "1. **Hybrid Quantum-Classical Agents**\n",
      "   - Use quantum processors for specific optimization subroutines\n",
      "   - Classical systems handle overall agent architecture and communication\n",
      "\n",
      "2. **Financial Trading Agents**\n",
      "   - Quantum algorithms for portfolio optimization\n",
      "   - Risk assessment using quantum Monte Carlo methods\n",
      "\n",
      "3. **Supply Chain Optimization**\n",
      "   - Quantum-enhanced logistics planning\n",
      "   - Multi-constraint optimization problems\n",
      "\n",
      "4. **Drug Discovery Agents**\n",
      "   - Quantum simulation of molecular interactions\n",
      "   - Quantum-enhanced search through chemical space\n",
      "\n",
      "## Future Outlook\n",
      "\n",
      "While we haven't seen truly transformative quantum agents yet, the field is progressing rapidly. The most realistic near-term approach involves **hybrid systems** where quantum processors handle specific computational bottlenecks while classical systems manage the overall agent architecture.\n",
      "\n",
      "The timeline for practical quantum agents depends heavily on quantum hardware advances, particularly in error correction and qubit scaling. Most experts expect meaningful applications within 5-10 years for specialized domains, with broader applications following as the technology matures.\n",
      "\n",
      "Would you like me to dive deeper into any specific aspect, such as the technical details of quantum machine learning algorithms or specific implementation challenges?"
     ]
    },
    {
     "data": {
      "text/plain": [
       "AgentResult(stop_reason='end_turn', message={'role': 'assistant', 'content': [{'text': \"Quantum computing and agentic AI represent a fascinating intersection with significant theoretical potential, though practical implementations are still in early stages. Let me break this down:\\n\\n## How Quantum Computing Could Enhance AI Agents\\n\\n### 1. **Quantum Optimization for Decision Making**\\n- Quantum algorithms like QAOA (Quantum Approximate Optimization Algorithm) could help agents solve complex optimization problems\\n- Better route planning, resource allocation, and multi-objective decision making\\n- Quantum annealing for constraint satisfaction problems\\n\\n### 2. **Enhanced Learning Capabilities**\\n- Quantum machine learning algorithms could accelerate training\\n- Quantum neural networks might process information in fundamentally different ways\\n- Potential for exponential speedups in certain pattern recognition tasks\\n\\n### 3. **Parallel Processing of Possibilities**\\n- Quantum superposition could allow agents to evaluate multiple decision paths simultaneously\\n- Monte Carlo tree search enhanced with quantum sampling\\n- Exploring vast solution spaces more efficiently\\n\\n### 4. **Quantum-Enhanced Perception**\\n- Quantum algorithms for signal processing and sensor fusion\\n- Better handling of noisy, uncertain sensor data\\n- Quantum feature mapping for high-dimensional data\\n\\n## Current State of Quantum Agents\\n\\n### **Limited Successful Implementations:**\\n\\n1. **IBM's Quantum Machine Learning Experiments**\\n   - Quantum classifiers for simple decision-making tasks\\n   - Hybrid classical-quantum approaches for optimization\\n\\n2. **Google's Quantum AI Research**\\n   - Quantum reinforcement learning proof-of-concepts\\n   - Small-scale quantum neural networks\\n\\n3. **Academic Prototypes**\\n   - Quantum game-playing agents (simple games)\\n   - Quantum-enhanced portfolio optimization agents\\n   - Quantum approximate optimization for logistics\\n\\n### **Key Challenges:**\\n\\n- **Hardware Limitations**: Current quantum computers are noisy and have limited qubits\\n- **Decoherence**: Quantum states are fragile and short-lived\\n- **Integration Complexity**: Bridging quantum and classical computing systems\\n- **Scalability**: Most demonstrations work only on toy problems\\n\\n## Promising Near-term Applications\\n\\n1. **Hybrid Quantum-Classical Agents**\\n   - Use quantum processors for specific optimization subroutines\\n   - Classical systems handle overall agent architecture and communication\\n\\n2. **Financial Trading Agents**\\n   - Quantum algorithms for portfolio optimization\\n   - Risk assessment using quantum Monte Carlo methods\\n\\n3. **Supply Chain Optimization**\\n   - Quantum-enhanced logistics planning\\n   - Multi-constraint optimization problems\\n\\n4. **Drug Discovery Agents**\\n   - Quantum simulation of molecular interactions\\n   - Quantum-enhanced search through chemical space\\n\\n## Future Outlook\\n\\nWhile we haven't seen truly transformative quantum agents yet, the field is progressing rapidly. The most realistic near-term approach involves **hybrid systems** where quantum processors handle specific computational bottlenecks while classical systems manage the overall agent architecture.\\n\\nThe timeline for practical quantum agents depends heavily on quantum hardware advances, particularly in error correction and qubit scaling. Most experts expect meaningful applications within 5-10 years for specialized domains, with broader applications following as the technology matures.\\n\\nWould you like me to dive deeper into any specific aspect, such as the technical details of quantum machine learning algorithms or specific implementation challenges?\"}]}, metrics=EventLoopMetrics(cycle_count=1, tool_metrics={}, cycle_durations=[11.663585662841797], traces=[<strands.telemetry.metrics.Trace object at 0x7f640fff8a10>], accumulated_usage={'inputTokens': 37, 'outputTokens': 719, 'totalTokens': 756}, accumulated_metrics={'latencyMs': 11642}), state={})"
      ]
     },
     "execution_count": 5,
     "metadata": {},
     "output_type": "execute_result"
    }
   ],
   "source": [
    "agent(\"How can Quantum Computing be incorporated within Agentic AI and AI agents. Have there ever been a successful implementation of Quantum Agents?\")"
   ]
  },
  {
   "cell_type": "code",
   "execution_count": 18,
   "id": "708c0fbb-098b-4d23-a0bc-7a4ec104abcd",
   "metadata": {
    "execution": {
     "iopub.execute_input": "2025-08-21T06:09:58.941402Z",
     "iopub.status.busy": "2025-08-21T06:09:58.940986Z",
     "iopub.status.idle": "2025-08-21T06:09:59.680108Z",
     "shell.execute_reply": "2025-08-21T06:09:59.679292Z",
     "shell.execute_reply.started": "2025-08-21T06:09:58.941366Z"
    }
   },
   "outputs": [
    {
     "name": "stdout",
     "output_type": "stream",
     "text": [
      "\u001b[31mERROR: Could not find a version that satisfies the requirement strands_tools (from versions: none)\u001b[0m\u001b[31m\n",
      "\u001b[0m\u001b[31mERROR: No matching distribution found for strands_tools\u001b[0m\u001b[31m\n",
      "\u001b[0m"
     ]
    }
   ],
   "source": [
    "!pip install strands_tools\n"
   ]
  },
  {
   "cell_type": "code",
   "execution_count": 17,
   "id": "839e4719-1da8-476a-91d7-8243e3b2f1d1",
   "metadata": {
    "execution": {
     "iopub.execute_input": "2025-08-21T06:09:42.490695Z",
     "iopub.status.busy": "2025-08-21T06:09:42.490366Z",
     "iopub.status.idle": "2025-08-21T06:09:42.506778Z",
     "shell.execute_reply": "2025-08-21T06:09:42.506141Z",
     "shell.execute_reply.started": "2025-08-21T06:09:42.490672Z"
    }
   },
   "outputs": [
    {
     "ename": "ModuleNotFoundError",
     "evalue": "No module named 'strands_tools'",
     "output_type": "error",
     "traceback": [
      "\u001b[0;31m---------------------------------------------------------------------------\u001b[0m",
      "\u001b[0;31mModuleNotFoundError\u001b[0m                       Traceback (most recent call last)",
      "Cell \u001b[0;32mIn[17], line 2\u001b[0m\n\u001b[1;32m      1\u001b[0m \u001b[38;5;28;01mfrom\u001b[39;00m\u001b[38;5;250m \u001b[39m\u001b[38;5;21;01mstrands\u001b[39;00m\u001b[38;5;250m \u001b[39m\u001b[38;5;28;01mimport\u001b[39;00m Agent\n\u001b[0;32m----> 2\u001b[0m \u001b[38;5;28;01mfrom\u001b[39;00m\u001b[38;5;250m \u001b[39m\u001b[38;5;21;01mstrands_tools\u001b[39;00m\u001b[38;5;250m \u001b[39m\u001b[38;5;28;01mimport\u001b[39;00m http_request\n",
      "\u001b[0;31mModuleNotFoundError\u001b[0m: No module named 'strands_tools'"
     ]
    }
   ],
   "source": [
    "from strands import Agent\n",
    "from strands_tools import http_request"
   ]
  },
  {
   "cell_type": "code",
   "execution_count": 22,
   "id": "cefccd75-417f-45da-ba59-0d94baf1ce8a",
   "metadata": {
    "execution": {
     "iopub.execute_input": "2025-08-21T06:24:47.490424Z",
     "iopub.status.busy": "2025-08-21T06:24:47.490113Z",
     "iopub.status.idle": "2025-08-21T06:24:47.493140Z",
     "shell.execute_reply": "2025-08-21T06:24:47.492648Z",
     "shell.execute_reply.started": "2025-08-21T06:24:47.490404Z"
    }
   },
   "outputs": [],
   "source": [
    "from strands.models import BedrockModel"
   ]
  },
  {
   "cell_type": "code",
   "execution_count": 21,
   "id": "b6ca3532-fe7a-481d-9b5f-a9a47f20c07f",
   "metadata": {
    "execution": {
     "iopub.execute_input": "2025-08-21T06:10:23.327965Z",
     "iopub.status.busy": "2025-08-21T06:10:23.327643Z",
     "iopub.status.idle": "2025-08-21T06:10:23.340810Z",
     "shell.execute_reply": "2025-08-21T06:10:23.340108Z",
     "shell.execute_reply.started": "2025-08-21T06:10:23.327944Z"
    }
   },
   "outputs": [
    {
     "ename": "NameError",
     "evalue": "name 'strands_tools' is not defined",
     "output_type": "error",
     "traceback": [
      "\u001b[0;31m---------------------------------------------------------------------------\u001b[0m",
      "\u001b[0;31mNameError\u001b[0m                                 Traceback (most recent call last)",
      "Cell \u001b[0;32mIn[21], line 1\u001b[0m\n\u001b[0;32m----> 1\u001b[0m \u001b[38;5;28mlist\u001b[39m(\u001b[43mstrands_tools\u001b[49m)\n",
      "\u001b[0;31mNameError\u001b[0m: name 'strands_tools' is not defined"
     ]
    }
   ],
   "source": [
    "agent=Agent(model=bedrock_model, tools="
   ]
  },
  {
   "cell_type": "code",
   "execution_count": 13,
   "id": "0e66c937-f681-44f3-b659-57a539bbfcb6",
   "metadata": {
    "execution": {
     "iopub.execute_input": "2025-08-21T06:07:04.650973Z",
     "iopub.status.busy": "2025-08-21T06:07:04.650627Z",
     "iopub.status.idle": "2025-08-21T06:07:09.931959Z",
     "shell.execute_reply": "2025-08-21T06:07:09.931447Z",
     "shell.execute_reply.started": "2025-08-21T06:07:04.650952Z"
    }
   },
   "outputs": [
    {
     "name": "stdout",
     "output_type": "stream",
     "text": [
      "I don't have access to real-time data, so I can't tell you the current date and time in Pune, Maharashtra, India.\n",
      "\n",
      "However, I can tell you that Pune follows **Indian Standard Time (IST)**, which is UTC+5:30.\n",
      "\n",
      "To get the current time in Pune, you can:\n",
      "\n",
      "1. **Search online**: \"current time in Pune\" or \"IST time now\"\n",
      "2. **Use your device**: Most smartphones and computers can show multiple time zones\n",
      "3. **Calculate from your local time**: If you know your timezone, add/subtract the difference to IST (UTC+5:30)\n",
      "\n",
      "For example, if you're in:\n",
      "- **UTC/GMT**: Add 5 hours 30 minutes\n",
      "- **EST (US East Coast)**: Add 10 hours 30 minutes (11 hours 30 minutes during DST)\n",
      "- **PST (US West Coast)**: Add 13 hours 30 minutes (14 hours 30 minutes during DST)\n",
      "\n",
      "Would you like help with anything else about time zones or converting between different times?"
     ]
    },
    {
     "data": {
      "text/plain": [
       "AgentResult(stop_reason='end_turn', message={'role': 'assistant', 'content': [{'text': 'I don\\'t have access to real-time data, so I can\\'t tell you the current date and time in Pune, Maharashtra, India.\\n\\nHowever, I can tell you that Pune follows **Indian Standard Time (IST)**, which is UTC+5:30.\\n\\nTo get the current time in Pune, you can:\\n\\n1. **Search online**: \"current time in Pune\" or \"IST time now\"\\n2. **Use your device**: Most smartphones and computers can show multiple time zones\\n3. **Calculate from your local time**: If you know your timezone, add/subtract the difference to IST (UTC+5:30)\\n\\nFor example, if you\\'re in:\\n- **UTC/GMT**: Add 5 hours 30 minutes\\n- **EST (US East Coast)**: Add 10 hours 30 minutes (11 hours 30 minutes during DST)\\n- **PST (US West Coast)**: Add 13 hours 30 minutes (14 hours 30 minutes during DST)\\n\\nWould you like help with anything else about time zones or converting between different times?'}]}, metrics=EventLoopMetrics(cycle_count=2, tool_metrics={}, cycle_durations=[11.663585662841797, 5.275376081466675], traces=[<strands.telemetry.metrics.Trace object at 0x7f640fff8a10>, <strands.telemetry.metrics.Trace object at 0x7f6430650950>], accumulated_usage={'inputTokens': 808, 'outputTokens': 967, 'totalTokens': 1775}, accumulated_metrics={'latencyMs': 16084}), state={})"
      ]
     },
     "execution_count": 13,
     "metadata": {},
     "output_type": "execute_result"
    }
   ],
   "source": [
    "agent(\"What is the date time in Pune, Maharashtra,India\")"
   ]
  },
  {
   "cell_type": "code",
   "execution_count": 23,
   "id": "248f3354-2645-40f1-9577-77328cb2fdb2",
   "metadata": {
    "execution": {
     "iopub.execute_input": "2025-08-21T06:35:28.318252Z",
     "iopub.status.busy": "2025-08-21T06:35:28.317926Z",
     "iopub.status.idle": "2025-08-21T06:35:28.331146Z",
     "shell.execute_reply": "2025-08-21T06:35:28.330454Z",
     "shell.execute_reply.started": "2025-08-21T06:35:28.318231Z"
    }
   },
   "outputs": [
    {
     "ename": "ValueError",
     "evalue": "too many values to unpack (expected 2)",
     "output_type": "error",
     "traceback": [
      "\u001b[0;31m---------------------------------------------------------------------------\u001b[0m",
      "\u001b[0;31mValueError\u001b[0m                                Traceback (most recent call last)",
      "Cell \u001b[0;32mIn[23], line 1\u001b[0m\n\u001b[0;32m----> 1\u001b[0m jarvis\u001b[38;5;241m=\u001b[39mAgent\u001b[38;5;241m=\u001b[39m(greet), system_prompt\u001b[38;5;241m=\u001b[39m\u001b[38;5;124m\"\u001b[39m\u001b[38;5;124mYou are Jarvis, a helpful assistant, based on the personality of the Iron Man AI Character, whatever the user calls you is your name, even though you are Claude.\u001b[39m\u001b[38;5;124m\"\u001b[39m\n",
      "\u001b[0;31mValueError\u001b[0m: too many values to unpack (expected 2)"
     ]
    }
   ],
   "source": [
    "jarvis=Agent=(greet), system_prompt=\"You are Jarvis, a helpful assistant, based on the personality of the Iron Man AI Character, whatever the user calls you is your name, even though you are Claude.\""
   ]
  },
  {
   "cell_type": "code",
   "execution_count": null,
   "id": "9637e710-e6f2-46a9-b55e-8bc111652797",
   "metadata": {},
   "outputs": [],
   "source": []
  }
 ],
 "metadata": {
  "kernelspec": {
   "display_name": "Python 3 (ipykernel)",
   "language": "python",
   "name": "python3"
  },
  "language_info": {
   "codemirror_mode": {
    "name": "ipython",
    "version": 3
   },
   "file_extension": ".py",
   "mimetype": "text/x-python",
   "name": "python",
   "nbconvert_exporter": "python",
   "pygments_lexer": "ipython3",
   "version": "3.12.9"
  }
 },
 "nbformat": 4,
 "nbformat_minor": 5
}
